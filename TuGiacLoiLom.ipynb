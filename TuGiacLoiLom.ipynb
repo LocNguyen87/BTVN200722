{
 "cells": [
  {
   "cell_type": "code",
   "execution_count": 1,
   "id": "af6a4bf8",
   "metadata": {},
   "outputs": [
    {
     "name": "stdout",
     "output_type": "stream",
     "text": [
      "Nhập xa: 100\n",
      "Nhập ya: 250\n",
      "Nhập xb: 200\n",
      "Nhập yb: 300\n",
      "Nhập xc: 250\n",
      "Nhập yc: 400\n",
      "Nhập xd: 80\n",
      "Nhập yd: 350\n",
      "Đây là tứ giác lồi\n"
     ]
    }
   ],
   "source": [
    "import math\n",
    "import turtle\n",
    "\n",
    "xa = int(input(\"Nhập xa: \"))\n",
    "ya = int(input(\"Nhập ya: \"))\n",
    "xb = int(input(\"Nhập xb: \"))\n",
    "yb = int(input(\"Nhập yb: \"))\n",
    "xc = int(input(\"Nhập xc: \"))\n",
    "yc = int(input(\"Nhập yc: \"))\n",
    "xd = int(input(\"Nhập xd: \"))\n",
    "yd = int(input(\"Nhập yd: \"))\n",
    "\n",
    "AB = BA = math.sqrt((xb-xa)**2 + (yb-ya)**2)\n",
    "BC = CB = math.sqrt((xc-xa)**2 + (yc-ya)**2)\n",
    "CD = DC = math.sqrt((xd-xc)**2 + (yd-yc)**2)\n",
    "AD = DA = math.sqrt((xd-xa)**2 + (yd-ya)**2)\n",
    "BD = DB = math.sqrt((xd-xb)**2 + (yd-yb)**2)\n",
    "AC = CA = math.sqrt((xc-xa)**2 + (yc-ya)**2)\n",
    "\n",
    "cosA = ((AB**2 + AD**2 - BD**2)/(2 * AB * AC))\n",
    "cosB = ((BA**2 + BC**2 - AC**2)/(2 * BA * BC))\n",
    "cosC = ((CB**2 + CD**2 - BD**2)/(2 * CB * CD))\n",
    "cosD = ((DA**2 + DC**2 - AC**2)/(2 * DA * DC))\n",
    "\n",
    "gocA = math.degrees(math.cos(cosA))\n",
    "gocB = math.degrees(math.cos(cosB))\n",
    "gocC = math.degrees(math.cos(cosC))\n",
    "gocD = math.degrees(math.cos(cosD))\n",
    "\n",
    "\n",
    "if gocA > 180 or gocB > 180 or gocC > 180 or gocD > 180:\n",
    "    print(\"Tứ giác lõm\")\n",
    "else:\n",
    "    print(\"Tứ giác lồi\")\n",
    "\n",
    "t=turtle.Turtle()\n",
    "t.penup()\n",
    "t.goto(xa, ya)\n",
    "t.pendown()\n",
    "t.goto(xb, yb)\n",
    "t.goto(xc, yc)\n",
    "t.goto(xd, yd)\n",
    "t.goto(xa, ya)\n",
    "turtle.done()"
   ]
  },
  {
   "cell_type": "code",
   "execution_count": null,
   "id": "19d3f473",
   "metadata": {},
   "outputs": [],
   "source": []
  }
 ],
 "metadata": {
  "kernelspec": {
   "display_name": "Python 3 (ipykernel)",
   "language": "python",
   "name": "python3"
  },
  "language_info": {
   "codemirror_mode": {
    "name": "ipython",
    "version": 3
   },
   "file_extension": ".py",
   "mimetype": "text/x-python",
   "name": "python",
   "nbconvert_exporter": "python",
   "pygments_lexer": "ipython3",
   "version": "3.9.12"
  }
 },
 "nbformat": 4,
 "nbformat_minor": 5
}
