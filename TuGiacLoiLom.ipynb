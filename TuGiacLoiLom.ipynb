{
 "cells": [
  {
   "cell_type": "code",
   "execution_count": null,
   "id": "af6a4bf8",
   "metadata": {},
   "outputs": [],
   "source": [
    "import math\n",
    "import turtle\n",
    "\n",
    "a1 = input('Nhập tọa độ a1: ')\n",
    "a2 = input('Nhập tọa độ a2: ')\n",
    "b1 = input('Nhập tọa độ b1: ')\n",
    "b2 = input('Nhập tọa độ b2: ')\n",
    "c1 = input('Nhập tọa độ c1: ')\n",
    "c2 = input('Nhập tọa độ c2: ')\n",
    "d1 = input('Nhập tọa độ d1: ')\n",
    "d2 = input('Nhập tọa độ d2: ')\n",
    "\n",
    "# tính độ dài\n",
    "ab = math.sqrt((b1 - a1)**2 +(b2 - a2)**2)\n",
    "bc = math.sqrt((c1 - b1)**2 +(c2 - b2)**2)\n",
    "cd = math.sqrt((d1 - c1)**2 +(d2 - c2)**2)\n",
    "da = math.sqrt((a1 - d1)**2 +(a2 - d2)**2)\n",
    "bd = math.sqrt((d1 - b1)**2 +(d2 - b2)**2)\n",
    "ac = math.sqrt((c1 - a1)**2 +(c2 - a2)**2)\n",
    "\n",
    "\n"
   ]
  },
  {
   "cell_type": "code",
   "execution_count": null,
   "id": "19d3f473",
   "metadata": {},
   "outputs": [],
   "source": []
  }
 ],
 "metadata": {
  "kernelspec": {
   "display_name": "Python 3 (ipykernel)",
   "language": "python",
   "name": "python3"
  },
  "language_info": {
   "codemirror_mode": {
    "name": "ipython",
    "version": 3
   },
   "file_extension": ".py",
   "mimetype": "text/x-python",
   "name": "python",
   "nbconvert_exporter": "python",
   "pygments_lexer": "ipython3",
   "version": "3.9.12"
  }
 },
 "nbformat": 4,
 "nbformat_minor": 5
}
